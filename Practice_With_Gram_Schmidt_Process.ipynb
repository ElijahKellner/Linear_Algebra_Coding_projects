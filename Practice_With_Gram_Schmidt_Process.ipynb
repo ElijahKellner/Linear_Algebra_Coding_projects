{
  "nbformat": 4,
  "nbformat_minor": 0,
  "metadata": {
    "colab": {
      "name": "Practice_With_Gram_Schmidt_Process.ipynb",
      "provenance": [],
      "authorship_tag": "ABX9TyNj7pRWvlLiPGrO4tK/Te8V",
      "include_colab_link": true
    },
    "kernelspec": {
      "name": "python3",
      "display_name": "Python 3"
    }
  },
  "cells": [
    {
      "cell_type": "markdown",
      "metadata": {
        "id": "view-in-github",
        "colab_type": "text"
      },
      "source": [
        "<a href=\"https://colab.research.google.com/github/ElijahKellner/Linear_Algebra_Coding_projects/blob/master/Practice_With_Gram_Schmidt_Process.ipynb\" target=\"_parent\"><img src=\"https://colab.research.google.com/assets/colab-badge.svg\" alt=\"Open In Colab\"/></a>"
      ]
    },
    {
      "cell_type": "code",
      "metadata": {
        "id": "GbAsaltaigEi"
      },
      "source": [
        "\n",
        "import matplotlib.pyplot as plt\n",
        "from sympy import Poly\n",
        "import sympy as sym\n",
        "import numpy as np\n",
        "from numpy import c_\n",
        "\n",
        "# We'll specify that x and t are variables:\n",
        "x, t = sym.symbols('x, t')\n",
        "\n",
        "ll = \"loaded\""
      ],
      "execution_count": 3,
      "outputs": []
    },
    {
      "cell_type": "code",
      "metadata": {
        "id": "dmUAKjQajeFT",
        "outputId": "27fd697f-12bc-4eaf-a917-96c0acc0892c",
        "colab": {
          "base_uri": "https://localhost:8080/",
          "height": 34
        }
      },
      "source": [
        "#Dot product example\n",
        "np.dot([1, 2], [3, 4])\n",
        "\n",
        "# How do I find magnitude in np?\n",
        "\n",
        "np.sqrt(np.dot([1,2], [1, 2]))"
      ],
      "execution_count": 11,
      "outputs": [
        {
          "output_type": "execute_result",
          "data": {
            "text/plain": [
              "2.23606797749979"
            ]
          },
          "metadata": {
            "tags": []
          },
          "execution_count": 11
        }
      ]
    },
    {
      "cell_type": "code",
      "metadata": {
        "id": "1rVpiFtnkQ5F",
        "outputId": "044e3275-de52-41e4-8fbd-ad46906b5de3",
        "colab": {
          "base_uri": "https://localhost:8080/",
          "height": 34
        }
      },
      "source": [
        "r1 = [2, 4, 0, 0]\n",
        "r2 = [1, 2, 3, 6]\n",
        "r3 = [2, -1, 2, -1]\n",
        "r4 = [1, 2, 3, 4]\n",
        "\n",
        "r1"
      ],
      "execution_count": 14,
      "outputs": [
        {
          "output_type": "execute_result",
          "data": {
            "text/plain": [
              "[2, 4, 0, 0]"
            ]
          },
          "metadata": {
            "tags": []
          },
          "execution_count": 14
        }
      ]
    },
    {
      "cell_type": "code",
      "metadata": {
        "id": "m-tFVIFUk6Oq",
        "outputId": "2ec475aa-8f17-4272-acf2-711bb8c7e318",
        "colab": {
          "base_uri": "https://localhost:8080/",
          "height": 34
        }
      },
      "source": [
        "# Find the first nice basis vector, u1\n",
        "# 1. pick a new vector\n",
        "r1\n",
        "# 2. Subtract the projection of r1 onto the nice basis (u1, u2, u3,...)\n",
        "#    and save this as a temporary n1\n",
        "n1=r1\n",
        "# 3. Find the magnitude of n1\n",
        "np.sqrt(np.dot(n1, n1))\n",
        "# 4. Create a nice basis vector    u1 = 1/|n1| * n1\n",
        "u1= n1/np.sqrt(np.dot(n1, n1))\n",
        "u1"
      ],
      "execution_count": 19,
      "outputs": [
        {
          "output_type": "execute_result",
          "data": {
            "text/plain": [
              "array([0.4472136 , 0.89442719, 0.        , 0.        ])"
            ]
          },
          "metadata": {
            "tags": []
          },
          "execution_count": 19
        }
      ]
    },
    {
      "cell_type": "code",
      "metadata": {
        "id": "2iyaoWPplRPa",
        "outputId": "a66e9d25-80c2-4eb3-a1f7-185861375c8d",
        "colab": {
          "base_uri": "https://localhost:8080/",
          "height": 34
        }
      },
      "source": [
        "# Check that u1 has a magnitude of 1\n",
        "np.dot(u1, u1)"
      ],
      "execution_count": 20,
      "outputs": [
        {
          "output_type": "execute_result",
          "data": {
            "text/plain": [
              "0.9999999999999999"
            ]
          },
          "metadata": {
            "tags": []
          },
          "execution_count": 20
        }
      ]
    },
    {
      "cell_type": "code",
      "metadata": {
        "id": "A9vZq9dUmYbV"
      },
      "source": [
        "# Repeat these steps for as many vectors an necessary"
      ],
      "execution_count": 21,
      "outputs": []
    },
    {
      "cell_type": "code",
      "metadata": {
        "id": "AMNpcx27mjWg",
        "outputId": "e2af99e8-8aab-47b7-c8d4-ac82ec967f5f",
        "colab": {
          "base_uri": "https://localhost:8080/",
          "height": 34
        }
      },
      "source": [
        "# Find the second nice basis vector, u2\n",
        "# 1. pick a new vector\n",
        "r2\n",
        "# 2. Subtract the projection of r2 onto the nice basis (u1, u2, u3,...)\n",
        "#    and save this as a temporary n2\n",
        "n2=r2 - np.dot(r2, u1)*u1\n",
        "# 3. Find the magnitude of n2\n",
        "np.sqrt(np.dot(n2, n2))\n",
        "# 4. Create a nice basis vector    u2 = 1/|n2| * n2\n",
        "u2= n2/np.sqrt(np.dot(n2, n2))\n",
        "u2"
      ],
      "execution_count": 23,
      "outputs": [
        {
          "output_type": "execute_result",
          "data": {
            "text/plain": [
              "array([0.        , 0.        , 0.4472136 , 0.89442719])"
            ]
          },
          "metadata": {
            "tags": []
          },
          "execution_count": 23
        }
      ]
    },
    {
      "cell_type": "code",
      "metadata": {
        "id": "4LQZXwoVnZjY",
        "outputId": "7593a90b-c407-4c34-c0c7-8d163fa7cb8c",
        "colab": {
          "base_uri": "https://localhost:8080/",
          "height": 34
        }
      },
      "source": [
        "# Find the third nice basis vector, u3\n",
        "# 1. pick a new vector\n",
        "r3\n",
        "# 2. Subtract the projection of r3 onto the nice basis (u1, u2, u3,...)\n",
        "#    and save this as a temporary n3\n",
        "n3=r3 - np.dot(r3, u1)*u1 - np.dot(r3, u2)*u2\n",
        "# 3. Find the magnitude of n3\n",
        "np.sqrt(np.dot(n3, n3))\n",
        "# 4. Create a nice basis vector   u3 = 1/|n3| * n3\n",
        "u3= n3/np.sqrt(np.dot(n3, n3))\n",
        "u3"
      ],
      "execution_count": 28,
      "outputs": [
        {
          "output_type": "execute_result",
          "data": {
            "text/plain": [
              "array([ 0.63245553, -0.31622777,  0.63245553, -0.31622777])"
            ]
          },
          "metadata": {
            "tags": []
          },
          "execution_count": 28
        }
      ]
    },
    {
      "cell_type": "code",
      "metadata": {
        "id": "vKa24GVjoOtC",
        "outputId": "3f502dcf-ac30-48e1-9591-ce216f40a0fa",
        "colab": {
          "base_uri": "https://localhost:8080/",
          "height": 34
        }
      },
      "source": [
        "# Find the fourth nice basis vector, u4\n",
        "# 1. pick a new vector\n",
        "r4\n",
        "# 2. Subtract the projection of r4 onto the nice basis (u1, u2, u3,...)\n",
        "#    and save this as a temporary n4\n",
        "n4=r4 - np.dot(r4, u1)*u1 - np.dot(r4, u2)*u2 -np.dot(r4, u3)*u3\n",
        "# 3. Find the magnitude of n4\n",
        "np.sqrt(np.dot(n4, n4))\n",
        "# 4. Create a nice basis vector   u4 = 1/|n4| * n4\n",
        "u4= n4/np.sqrt(np.dot(n4, n4))\n",
        "u4"
      ],
      "execution_count": 31,
      "outputs": [
        {
          "output_type": "execute_result",
          "data": {
            "text/plain": [
              "array([-0.63245553,  0.31622777,  0.63245553, -0.31622777])"
            ]
          },
          "metadata": {
            "tags": []
          },
          "execution_count": 31
        }
      ]
    },
    {
      "cell_type": "code",
      "metadata": {
        "id": "wfdhl88Fonsy",
        "outputId": "2df0cdd5-c13f-4db1-a374-42347941b837",
        "colab": {
          "base_uri": "https://localhost:8080/",
          "height": 85
        }
      },
      "source": [
        "print(np.dot(u1,u4))\n",
        "print(np.dot(u2,u4))\n",
        "print(np.dot(u3,u4))\n",
        "print(np.dot(u4,u4))"
      ],
      "execution_count": 35,
      "outputs": [
        {
          "output_type": "stream",
          "text": [
            "0.0\n",
            "9.43689570931383e-16\n",
            "9.71445146547012e-17\n",
            "0.9999999999999998\n"
          ],
          "name": "stdout"
        }
      ]
    },
    {
      "cell_type": "code",
      "metadata": {
        "id": "SaIcYL0fowj4"
      },
      "source": [
        ""
      ],
      "execution_count": null,
      "outputs": []
    }
  ]
}